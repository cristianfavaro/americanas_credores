{
 "cells": [
  {
   "cell_type": "code",
   "execution_count": 3,
   "id": "ab19704e-8ce0-46e7-8c98-d8fc4951aa87",
   "metadata": {},
   "outputs": [],
   "source": [
    "from tabula import read_pdf"
   ]
  },
  {
   "cell_type": "code",
   "execution_count": 4,
   "id": "a7ff013d-90c4-4e88-8314-244f4750a4dc",
   "metadata": {},
   "outputs": [],
   "source": [
    "import pandas as pd"
   ]
  },
  {
   "cell_type": "code",
   "execution_count": 5,
   "id": "f00a6f51-e013-4bd5-a5da-1250c9e41b03",
   "metadata": {},
   "outputs": [
    {
     "name": "stderr",
     "output_type": "stream",
     "text": [
      "Got stderr: Jan 30, 2023 4:08:26 PM org.apache.pdfbox.pdmodel.font.FileSystemFontProvider loadDiskCache\n",
      "WARNING: New fonts found, font cache will be re-built\n",
      "Jan 30, 2023 4:08:26 PM org.apache.pdfbox.pdmodel.font.FileSystemFontProvider <init>\n",
      "WARNING: Building on-disk font cache, this may take a while\n",
      "Jan 30, 2023 4:08:26 PM org.apache.pdfbox.pdmodel.font.FileSystemFontProvider <init>\n",
      "WARNING: Finished building on-disk font cache, found 50 fonts\n",
      "Jan 30, 2023 4:08:26 PM org.apache.pdfbox.pdmodel.font.PDType1Font <init>\n",
      "WARNING: Using fallback font LiberationSans for base font Symbol\n",
      "Jan 30, 2023 4:08:26 PM org.apache.pdfbox.pdmodel.font.PDType1Font <init>\n",
      "WARNING: Using fallback font LiberationSans for base font ZapfDingbats\n",
      "\n"
     ]
    }
   ],
   "source": [
    "pdf = read_pdf(\"Doc. 1 - QGC Consolidado_vSent.pdf\",pages='all',multiple_tables=True)"
   ]
  },
  {
   "cell_type": "code",
   "execution_count": 192,
   "id": "ccb990c6-6297-4f84-a5b6-0e416d1b18e4",
   "metadata": {
    "tags": []
   },
   "outputs": [],
   "source": [
    "df = []\n",
    "for i,data in enumerate(pdf):\n",
    "    if not i == 0 and not i == 1:\n",
    "        data = pdf[i]\n",
    "        data = data[data.iloc[:, 0].notna()]\n",
    "        data = data[data.iloc[:, 1].notna()]\n",
    "        if data.iloc[:,2].isna().all():\n",
    "            data = data.drop(data.columns[2], axis=1)\n",
    "        data = data[data.columns[:8]]\n",
    "        data.columns = [\"ID\", \"Nome ou Razão Social\", \"CNPJ/CPF\", \"Moeda\", \"Valor do Crédito em Moeda Original\",\"Valor do Crédito em BRL\", \"Classificação do Crédito\", \"Endereço\"]\n",
    "        df.append(data)"
   ]
  },
  {
   "cell_type": "code",
   "execution_count": 194,
   "id": "107ef18e-b253-4f38-9d42-f8955af48534",
   "metadata": {},
   "outputs": [],
   "source": [
    "df = pd.concat(df)"
   ]
  },
  {
   "cell_type": "code",
   "execution_count": 198,
   "id": "1ee0349f-cbd6-49ac-b17b-68eab4770f52",
   "metadata": {},
   "outputs": [],
   "source": [
    "import requests"
   ]
  },
  {
   "cell_type": "code",
   "execution_count": 272,
   "id": "6a67b0e7-7767-4f47-8fdb-0e9c48658a42",
   "metadata": {
    "tags": []
   },
   "outputs": [],
   "source": [
    "import re\n",
    "def validar_cnpj(cnpj):\n",
    "    \"\"\"\n",
    "    Valida CNPJs, retornando apenas a string de números válida.\n",
    "\n",
    "    # CNPJs errados\n",
    "    >>> validar_cnpj('abcdefghijklmn')\n",
    "    False\n",
    "    >>> validar_cnpj('123')\n",
    "    False\n",
    "    >>> validar_cnpj('')\n",
    "    False\n",
    "    >>> validar_cnpj(None)\n",
    "    False\n",
    "    >>> validar_cnpj('12345678901234')\n",
    "    False\n",
    "    >>> validar_cnpj('11222333000100')\n",
    "    False\n",
    "\n",
    "    # CNPJs corretos\n",
    "    >>> validar_cnpj('11222333000181')\n",
    "    '11222333000181'\n",
    "    >>> validar_cnpj('11.222.333/0001-81')\n",
    "    '11222333000181'\n",
    "    >>> validar_cnpj('  11 222 333 0001 81  ')\n",
    "    '11222333000181'\n",
    "    \"\"\"\n",
    "    cnpj = ''.join(re.findall('\\d', str(cnpj)))\n",
    "\n",
    "    if (not cnpj) or (len(cnpj) < 14):\n",
    "        return False\n",
    "\n",
    "    # Pega apenas os 12 primeiros dígitos do CNPJ e gera os 2 dígitos que faltam\n",
    "    inteiros = list(map(int, cnpj))\n",
    "    novo = inteiros[:12]\n",
    "\n",
    "    prod = [5, 4, 3, 2, 9, 8, 7, 6, 5, 4, 3, 2]\n",
    "    while len(novo) < 14:\n",
    "        r = sum([x*y for (x, y) in zip(novo, prod)]) % 11\n",
    "        if r > 1:\n",
    "            f = 11 - r\n",
    "        else:\n",
    "            f = 0\n",
    "        novo.append(f)\n",
    "        prod.insert(0, 6)\n",
    "\n",
    "    # Se o número gerado coincidir com o número original, é válido\n",
    "    if novo == inteiros:\n",
    "        return cnpj\n",
    "    return False"
   ]
  },
  {
   "cell_type": "code",
   "execution_count": 560,
   "id": "80c72d2b-53ad-4429-863c-4e15a95d6f36",
   "metadata": {
    "tags": []
   },
   "outputs": [],
   "source": [
    "# codigo para buscar os CNPJs -  eles ja estão nos arquivos\n",
    "# for i in range(len(df)):\n",
    "#     print(f\"Tentando pegar o dado de {df.iloc[i]['Nome ou Razão Social']} - {df.iloc[i]['ID']}\")\n",
    "#     cnpj = validar_cnpj(df.iloc[i][\"CNPJ/CPF\"])\n",
    "#     if cnpj:\n",
    "#         url = f\"https://publica.cnpj.ws/cnpj/{cnpj}\"\n",
    "#         resp = requests.get(url)\n",
    "#         if resp.status_code == 200:\n",
    "#             json_resp = resp.json()\n",
    "#             cnpj_data.append(json_resp)\n",
    "#             print(json_resp)\n",
    "#         else:\n",
    "#             print(\"CNPJ inválido\")\n",
    "#         time.sleep(20)    "
   ]
  },
  {
   "cell_type": "code",
   "execution_count": 441,
   "id": "aa827a48-5927-48a1-8219-80fc167bdeac",
   "metadata": {},
   "outputs": [],
   "source": [
    "final_1 = pd.read_json('work/data.json')\n",
    "final_2 = pd.read_json('work/data2.json')\n",
    "final_3 = pd.read_json('work/data3.json')\n",
    "final_4 = pd.read_json('work/data4.json')\n",
    "final_5 = pd.DataFrame(cnpj_data) #aqui é o 5\n"
   ]
  },
  {
   "cell_type": "code",
   "execution_count": 459,
   "id": "538ab0cd-35b5-4286-af5d-e9308f7b0d68",
   "metadata": {
    "tags": []
   },
   "outputs": [],
   "source": [
    "final = pd.concat([final_1, final_2, final_3, final_4, final_5])"
   ]
  },
  {
   "cell_type": "code",
   "execution_count": 460,
   "id": "d9543d1d-4559-4ccf-8e20-d3cd1ca2e938",
   "metadata": {},
   "outputs": [],
   "source": [
    "final = final.reset_index(drop=True)"
   ]
  },
  {
   "cell_type": "code",
   "execution_count": 462,
   "id": "9d4dc6b8-533b-48fd-b9df-210f13fdf91e",
   "metadata": {},
   "outputs": [],
   "source": [
    "simples = pd.json_normalize(final[\"simples\"])\n",
    "qualificacao_do_responsavel = pd.json_normalize(final[\"qualificacao_do_responsavel\"])\n",
    "porte = pd.json_normalize(final[\"porte\"])\n",
    "estabelecimentos = pd.json_normalize(final[\"estabelecimento\"])\n"
   ]
  },
  {
   "cell_type": "code",
   "execution_count": 528,
   "id": "12358aaa-bafe-4047-9345-f136dad9118b",
   "metadata": {},
   "outputs": [],
   "source": [
    "resultado = pd.concat(\n",
    "    [final, simples, estabelecimentos, qualificacao_do_responsavel, porte], axis=\"columns\"\n",
    ")"
   ]
  },
  {
   "cell_type": "code",
   "execution_count": 529,
   "id": "d2caa1af-cdcd-4fd8-9544-78e8df3b35fe",
   "metadata": {},
   "outputs": [],
   "source": [
    "consolidado = pd.merge(df, resultado, left_on=\"CNPJ/CPF\", right_on='cnpj', how=\"left\")"
   ]
  },
  {
   "cell_type": "code",
   "execution_count": 533,
   "id": "5fa6dd6a-8c5a-4dca-b6eb-708dacd2d82b",
   "metadata": {},
   "outputs": [],
   "source": [
    "consolidado = consolidado.drop_duplicates(subset=['CNPJ/CPF'])"
   ]
  },
  {
   "cell_type": "code",
   "execution_count": 534,
   "id": "4f59bb19-8537-489f-9c1f-d2a6fa9f3e35",
   "metadata": {},
   "outputs": [],
   "source": [
    "import numpy as np"
   ]
  },
  {
   "cell_type": "code",
   "execution_count": 541,
   "id": "570994ed-2dec-4c88-82f4-8d2d057f16cc",
   "metadata": {},
   "outputs": [],
   "source": [
    "consolidado[\"Valor do Crédito em Moeda Original\"] = consolidado[\"Valor do Crédito em Moeda Original\"].astype(str).str.replace(\",\", \"\").replace(\"-\", np.nan).astype(float)"
   ]
  },
  {
   "cell_type": "code",
   "execution_count": 551,
   "id": "78c04fed-fd2a-4e62-8fea-4accd43aaa5d",
   "metadata": {},
   "outputs": [],
   "source": [
    "consolidado.to_csv(\"consolidado.csv\", sep=\";\", index=False, decimal=\",\")"
   ]
  },
  {
   "cell_type": "code",
   "execution_count": null,
   "id": "5e675cb5-81da-4beb-ae01-e1adf6a5fa07",
   "metadata": {},
   "outputs": [],
   "source": []
  }
 ],
 "metadata": {
  "kernelspec": {
   "display_name": "Python 3 (ipykernel)",
   "language": "python",
   "name": "python3"
  },
  "language_info": {
   "codemirror_mode": {
    "name": "ipython",
    "version": 3
   },
   "file_extension": ".py",
   "mimetype": "text/x-python",
   "name": "python",
   "nbconvert_exporter": "python",
   "pygments_lexer": "ipython3",
   "version": "3.9.10"
  }
 },
 "nbformat": 4,
 "nbformat_minor": 5
}
